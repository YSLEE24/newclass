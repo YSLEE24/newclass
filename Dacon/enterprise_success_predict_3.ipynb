{
 "cells": [
  {
   "cell_type": "code",
   "execution_count": 1,
   "id": "8a07ae92",
   "metadata": {},
   "outputs": [],
   "source": [
    "# 기본 수학 / 배열 / 데이터프레임 처리\n",
    "import numpy as np\n",
    "import pandas as pd\n",
    "\n",
    "# PyTorch - 딥러닝 프레임워크\n",
    "import torch\n",
    "import torch.nn as nn\n",
    "import torch.optim as optim\n",
    "\n",
    "# 데이터 전처리\n",
    "from sklearn.model_selection import train_test_split\n",
    "from sklearn.preprocessing import StandardScaler"
   ]
  },
  {
   "cell_type": "code",
   "execution_count": 2,
   "id": "d0f579a4",
   "metadata": {},
   "outputs": [],
   "source": [
    "df_sample = pd.read_csv(\"data-files/sample_submission.csv\")\n",
    "df_test = pd.read_csv(\"data-files/test.csv\")\n",
    "df_train = pd.read_csv(\"data-files/train.csv\")"
   ]
  },
  {
   "cell_type": "code",
   "execution_count": 3,
   "id": "973f7382",
   "metadata": {},
   "outputs": [
    {
     "data": {
      "text/plain": [
       "Index(['ID', '설립연도', '국가', '분야', '투자단계', '직원 수', '인수여부', '상장여부', '고객수(백만명)',\n",
       "       '총 투자금(억원)', '연매출(억원)', 'SNS 팔로워 수(백만명)', '기업가치(백억원)', '성공확률'],\n",
       "      dtype='object')"
      ]
     },
     "execution_count": 3,
     "metadata": {},
     "output_type": "execute_result"
    }
   ],
   "source": [
    "df_train.columns"
   ]
  },
  {
   "cell_type": "code",
   "execution_count": 4,
   "id": "f04e3f53",
   "metadata": {},
   "outputs": [],
   "source": [
    "# 문자열 범위 처리 함수\n",
    "def handle_range(x):\n",
    "    if isinstance(x, str):\n",
    "        x = x.replace(',', '')  # 쉼표 제거\n",
    "        if '-' in x:\n",
    "            low, high = x.split('-')\n",
    "            return (float(low) + float(high)) / 2\n",
    "        else:\n",
    "            # '6000이상' 같은 경우 숫자만 추출\n",
    "            num = ''.join(filter(str.isdigit, x))\n",
    "            return float(num)\n",
    "    else:\n",
    "        return float(x)\n",
    "\n",
    "# 총 투자금, 연매출, 기업가치 세 컬럼에 적용\n",
    "for col in ['총 투자금(억원)', '연매출(억원)', '기업가치(백억원)']:\n",
    "    df_train[col] = df_train[col].apply(handle_range)\n",
    "    df_test[col] = df_test[col].apply(handle_range)"
   ]
  },
  {
   "cell_type": "code",
   "execution_count": 5,
   "id": "5ad2bf73",
   "metadata": {},
   "outputs": [],
   "source": [
    "# 각 컬럼별 평균값으로 NaN 채우기\n",
    "for col in ['총 투자금(억원)', '연매출(억원)', '기업가치(백억원)']:\n",
    "    mean_value = df_train[col].mean()\n",
    "    df_train[col] = df_train[col].fillna(mean_value)\n",
    "    df_test[col] = df_test[col].fillna(mean_value)"
   ]
  },
  {
   "cell_type": "code",
   "execution_count": 6,
   "id": "28685551",
   "metadata": {},
   "outputs": [
    {
     "name": "stdout",
     "output_type": "stream",
     "text": [
      "Epoch 0, Train Loss: 0.691472589969635, Val Loss: 0.6914348602294922\n",
      "Epoch 50, Train Loss: 0.6900725960731506, Val Loss: 0.6899082660675049\n",
      "Epoch 100, Train Loss: 0.6899009943008423, Val Loss: 0.6902512311935425\n",
      "Epoch 150, Train Loss: 0.6897849440574646, Val Loss: 0.6903378963470459\n",
      "Epoch 200, Train Loss: 0.6896829009056091, Val Loss: 0.6903636455535889\n",
      "Epoch 250, Train Loss: 0.689591646194458, Val Loss: 0.6904119253158569\n"
     ]
    }
   ],
   "source": [
    "# 순이익이 많을 수록 성공률 높을 것이라 예상\n",
    "\n",
    "df_train['순이익'] = df_train['연매출(억원)'] - df_train['총 투자금(억원)']\n",
    "df_test['순이익'] = df_test['연매출(억원)'] - df_test['총 투자금(억원)']\n",
    "\n",
    "# 사용할 feature 고르기\n",
    "features = ['순이익', '기업가치(백억원)']\n",
    "\n",
    "X = df_train[features]\n",
    "y = df_train['성공확률']\n",
    "X_test = df_test[features]\n",
    "\n",
    "# 스케일링\n",
    "scaler = StandardScaler()\n",
    "X = scaler.fit_transform(X)\n",
    "X_test = scaler.transform(X_test)\n",
    "\n",
    "# train/validation split\n",
    "X_train, X_val, y_train, y_val = train_test_split(X, y, test_size=0.2, random_state=42)\n",
    "\n",
    "# 모델 간단히 재정의\n",
    "class SimpleMLP(nn.Module):\n",
    "    def __init__(self):\n",
    "        super().__init__()\n",
    "        self.fc1 = nn.Linear(2, 32)  # 입력이 2개니까\n",
    "        self.fc2 = nn.Linear(32, 1)\n",
    "        \n",
    "    def forward(self, x):\n",
    "        x = torch.relu(self.fc1(x))\n",
    "        x = self.fc2(x)\n",
    "        return x\n",
    "\n",
    "model = SimpleMLP()\n",
    "\n",
    "# 손실함수 + optimizer\n",
    "criterion = nn.BCEWithLogitsLoss()  # !!! BCEWithLogitsLoss\n",
    "optimizer = optim.Adam(model.parameters(), lr=0.0005)\n",
    "\n",
    "# 학습\n",
    "epochs = 300\n",
    "for epoch in range(epochs):\n",
    "    model.train()\n",
    "    optimizer.zero_grad()\n",
    "    output = model(torch.FloatTensor(X_train))\n",
    "    loss = criterion(output, torch.FloatTensor(y_train.values).view(-1, 1))\n",
    "    loss.backward()\n",
    "    optimizer.step()\n",
    "    \n",
    "    if epoch % 50 == 0:\n",
    "        model.eval()\n",
    "        val_output = model(torch.FloatTensor(X_val))\n",
    "        val_loss = criterion(val_output, torch.FloatTensor(y_val.values).view(-1, 1))\n",
    "        print(f\"Epoch {epoch}, Train Loss: {loss.item()}, Val Loss: {val_loss.item()}\")"
   ]
  },
  {
   "cell_type": "code",
   "execution_count": 7,
   "id": "5a1e9bfd",
   "metadata": {},
   "outputs": [],
   "source": [
    "# # 예측\n",
    "# model.eval()\n",
    "# preds = model(torch.FloatTensor(X_test))\n",
    "# preds = torch.sigmoid(preds)  # BCEWithLogitsLoss 썼으면 반드시 sigmoid 필요\n",
    "# preds = preds.detach().numpy().flatten()"
   ]
  },
  {
   "cell_type": "code",
   "execution_count": 8,
   "id": "2851fa0c",
   "metadata": {},
   "outputs": [],
   "source": [
    "# # sample_submission 채우기\n",
    "# df_sample['성공확률'] = preds\n",
    "# df_sample.to_csv('submission.csv', index=False)"
   ]
  },
  {
   "cell_type": "code",
   "execution_count": 9,
   "id": "17587abb",
   "metadata": {},
   "outputs": [],
   "source": [
    "# model.eval()\n",
    "\n",
    "# # X_test를 torch로 변환\n",
    "# X_test_tensor = torch.FloatTensor(X_test)\n",
    "\n",
    "# # 모델에 넣고 예측\n",
    "# preds = model(X_test_tensor)\n",
    "\n",
    "# # BCEWithLogitsLoss 썼으니까 반드시 sigmoid 통과시켜야 함\n",
    "# preds = torch.sigmoid(preds)\n",
    "\n",
    "# # detach하고 numpy로 변환\n",
    "# preds = preds.detach().numpy().flatten()\n",
    "\n",
    "# # sample_submission에 넣기\n",
    "# df_sample['성공확률'] = preds\n",
    "# df_sample.to_csv('submission.csv', index=False)"
   ]
  },
  {
   "cell_type": "code",
   "execution_count": 10,
   "id": "4e6665e2",
   "metadata": {},
   "outputs": [],
   "source": [
    "# # (1) 모델을 평가 모드로\n",
    "# model.eval()\n",
    "\n",
    "# # (2) X_test를 Tensor로 변환\n",
    "# X_test_tensor = torch.FloatTensor(X_test)\n",
    "\n",
    "# # (3) 모델에 넣고 예측\n",
    "# preds = model(X_test_tensor)\n",
    "\n",
    "# # (4) 반드시 sigmoid 통과시키기\n",
    "# preds = torch.sigmoid(preds)\n",
    "\n",
    "# # (5) detach -> numpy 변환 -> flatten\n",
    "# preds = preds.detach().numpy().flatten()\n",
    "\n",
    "# # (6) preds 내용 한번 체크\n",
    "# print(\"Preds min:\", preds.min(), \"Preds max:\", preds.max())\n",
    "\n",
    "# # (7) sample_submission에 넣기\n",
    "# df_sample['성공확률'] = preds\n",
    "\n",
    "# # (8) 저장\n",
    "# df_sample.to_csv('submission.csv', index=False)"
   ]
  },
  {
   "cell_type": "code",
   "execution_count": 11,
   "id": "69bc55ff",
   "metadata": {},
   "outputs": [
    {
     "name": "stdout",
     "output_type": "stream",
     "text": [
      "Preds min: 0.4866236 Preds max: 0.6022961\n"
     ]
    }
   ],
   "source": [
    "# 1. 모델 평가모드로\n",
    "model.eval()\n",
    "\n",
    "# 2. X_test 변환\n",
    "X_test_tensor = torch.FloatTensor(X_test)\n",
    "\n",
    "# 3. 예측\n",
    "preds = model(X_test_tensor)\n",
    "\n",
    "# 4. sigmoid 통과\n",
    "preds = torch.sigmoid(preds)\n",
    "\n",
    "# 5. detach + numpy 변환 + flatten\n",
    "preds = preds.detach().numpy().flatten()\n",
    "\n",
    "# 6. 예측 결과 직접 확인\n",
    "print(\"Preds min:\", preds.min(), \"Preds max:\", preds.max())"
   ]
  },
  {
   "cell_type": "code",
   "execution_count": 12,
   "id": "2627037a",
   "metadata": {},
   "outputs": [
    {
     "name": "stdout",
     "output_type": "stream",
     "text": [
      "(3500, 2)\n"
     ]
    }
   ],
   "source": [
    "print(X_train.shape)"
   ]
  },
  {
   "cell_type": "code",
   "execution_count": 13,
   "id": "662e1556",
   "metadata": {},
   "outputs": [
    {
     "name": "stdout",
     "output_type": "stream",
     "text": [
      "NaN 개수: 0\n",
      "Inf 개수: 0\n",
      "최소값: -2.312941551208496\n",
      "최대값: 2.656660556793213\n"
     ]
    }
   ],
   "source": [
    "import torch\n",
    "\n",
    "# numpy → Tensor 변환\n",
    "X_train_tensor = torch.FloatTensor(X_train)\n",
    "\n",
    "# NaN / Inf 검사\n",
    "print(\"NaN 개수:\", torch.isnan(X_train_tensor).sum().item())\n",
    "print(\"Inf 개수:\", torch.isinf(X_train_tensor).sum().item())\n",
    "\n",
    "# min, max 값도 체크\n",
    "print(\"최소값:\", X_train_tensor.min().item())\n",
    "print(\"최대값:\", X_train_tensor.max().item())"
   ]
  },
  {
   "cell_type": "code",
   "execution_count": 14,
   "id": "8564c71e",
   "metadata": {},
   "outputs": [
    {
     "name": "stdout",
     "output_type": "stream",
     "text": [
      "tensor(0)\n",
      "tensor(0)\n",
      "tensor(-2.3129) tensor(2.6567)\n"
     ]
    }
   ],
   "source": [
    "print(torch.isnan(X_train_tensor).sum())\n",
    "print(torch.isinf(X_train_tensor).sum())\n",
    "print(X_train_tensor.min(), X_train_tensor.max())"
   ]
  },
  {
   "cell_type": "code",
   "execution_count": 15,
   "id": "89dac51e",
   "metadata": {},
   "outputs": [
    {
     "name": "stdout",
     "output_type": "stream",
     "text": [
      "NaN 개수: 0\n",
      "Inf 개수: 0\n",
      "최소값: -2.312941551208496\n",
      "최대값: 2.656660556793213\n"
     ]
    }
   ],
   "source": [
    "print(\"NaN 개수:\", torch.isnan(X_train_tensor).sum().item())\n",
    "print(\"Inf 개수:\", torch.isinf(X_train_tensor).sum().item())\n",
    "print(\"최소값:\", X_train_tensor.min().item())\n",
    "print(\"최대값:\", X_train_tensor.max().item())"
   ]
  },
  {
   "cell_type": "code",
   "execution_count": 16,
   "id": "1551cb1d",
   "metadata": {},
   "outputs": [],
   "source": [
    "# 순이익/기업가치 비율\n",
    "df_train['순이익대비기업가치'] = df_train['순이익'] / (df_train['기업가치(백억원)'] + 1e-6)  # 0 나누기 방지\n",
    "df_test['순이익대비기업가치'] = df_test['순이익'] / (df_test['기업가치(백억원)'] + 1e-6)"
   ]
  },
  {
   "cell_type": "code",
   "execution_count": 17,
   "id": "2007639b",
   "metadata": {},
   "outputs": [],
   "source": [
    "# 새로 쓸 feature 리스트\n",
    "features = ['순이익', '기업가치(백억원)', '순이익대비기업가치']\n",
    "\n",
    "X = df_train[features]\n",
    "y = df_train['성공확률']\n",
    "X_test = df_test[features]"
   ]
  },
  {
   "cell_type": "code",
   "execution_count": 18,
   "id": "1f7f9393",
   "metadata": {},
   "outputs": [],
   "source": [
    "from sklearn.preprocessing import StandardScaler\n",
    "\n",
    "scaler = StandardScaler()\n",
    "X = scaler.fit_transform(X)\n",
    "X_test = scaler.transform(X_test)"
   ]
  },
  {
   "cell_type": "code",
   "execution_count": 20,
   "id": "c24b66e9",
   "metadata": {},
   "outputs": [
    {
     "name": "stdout",
     "output_type": "stream",
     "text": [
      "\n",
      "===== Fold 1 =====\n",
      "Fold 1 Validation Loss: 0.6905\n",
      "\n",
      "===== Fold 2 =====\n",
      "Fold 2 Validation Loss: 0.6900\n",
      "\n",
      "===== Fold 3 =====\n",
      "Fold 3 Validation Loss: 0.6897\n",
      "\n",
      "===== Fold 4 =====\n",
      "Fold 4 Validation Loss: 0.6916\n",
      "\n",
      "===== Fold 5 =====\n",
      "Fold 5 Validation Loss: 0.6905\n",
      "\n",
      "===== 평균 Validation Loss: 0.6904 =====\n"
     ]
    }
   ],
   "source": [
    "import torch\n",
    "import torch.nn as nn\n",
    "import torch.optim as optim\n",
    "from sklearn.model_selection import KFold\n",
    "import numpy as np\n",
    "\n",
    "class SimpleMLP(nn.Module):\n",
    "    def __init__(self):\n",
    "        super().__init__()\n",
    "        self.fc1 = nn.Linear(3, 32)  # 입력 차원 3개로 변경!!\n",
    "        self.fc2 = nn.Linear(32, 1)\n",
    "        \n",
    "    def forward(self, x):\n",
    "        x = torch.relu(self.fc1(x))\n",
    "        x = self.fc2(x)\n",
    "        return x\n",
    "\n",
    "kf = KFold(n_splits=5, shuffle=True, random_state=42)\n",
    "\n",
    "fold = 0\n",
    "fold_losses = []\n",
    "\n",
    "for train_idx, val_idx in kf.split(X):\n",
    "    fold += 1\n",
    "    print(f\"\\n===== Fold {fold} =====\")\n",
    "\n",
    "    X_train_fold, X_val_fold = X[train_idx], X[val_idx]\n",
    "    y_train_fold, y_val_fold = y.iloc[train_idx], y.iloc[val_idx]\n",
    "\n",
    "    model = SimpleMLP()\n",
    "    criterion = nn.BCEWithLogitsLoss()\n",
    "    optimizer = optim.Adam(model.parameters(), lr=0.0005)\n",
    "\n",
    "    X_train_tensor = torch.FloatTensor(X_train_fold)\n",
    "    y_train_tensor = torch.FloatTensor(y_train_fold.values).view(-1, 1)\n",
    "    X_val_tensor = torch.FloatTensor(X_val_fold)\n",
    "    y_val_tensor = torch.FloatTensor(y_val_fold.values).view(-1, 1)\n",
    "\n",
    "    epochs = 300\n",
    "    for epoch in range(epochs):\n",
    "        model.train()\n",
    "        optimizer.zero_grad()\n",
    "        output = model(X_train_tensor)\n",
    "        loss = criterion(output, y_train_tensor)\n",
    "        loss.backward()\n",
    "        optimizer.step()\n",
    "\n",
    "    model.eval()\n",
    "    val_output = model(X_val_tensor)\n",
    "    val_loss = criterion(val_output, y_val_tensor)\n",
    "    print(f\"Fold {fold} Validation Loss: {val_loss.item():.4f}\")\n",
    "    fold_losses.append(val_loss.item())\n",
    "\n",
    "print(f\"\\n===== 평균 Validation Loss: {np.mean(fold_losses):.4f} =====\")\n"
   ]
  },
  {
   "cell_type": "code",
   "execution_count": 21,
   "id": "94c8577a",
   "metadata": {},
   "outputs": [],
   "source": [
    "# 최종 모델 학습 (전체 데이터로)\n",
    "model = SimpleMLP()\n",
    "criterion = nn.BCEWithLogitsLoss()\n",
    "optimizer = optim.Adam(model.parameters(), lr=0.0005)\n",
    "\n",
    "X_tensor = torch.FloatTensor(X)\n",
    "y_tensor = torch.FloatTensor(y.values).view(-1, 1)\n",
    "\n",
    "epochs = 300\n",
    "for epoch in range(epochs):\n",
    "    model.train()\n",
    "    optimizer.zero_grad()\n",
    "    output = model(X_tensor)\n",
    "    loss = criterion(output, y_tensor)\n",
    "    loss.backward()\n",
    "    optimizer.step()"
   ]
  },
  {
   "cell_type": "code",
   "execution_count": 22,
   "id": "be9ab8dc",
   "metadata": {},
   "outputs": [],
   "source": [
    "# Test 데이터 예측\n",
    "model.eval()\n",
    "X_test_tensor = torch.FloatTensor(X_test)\n",
    "preds = model(X_test_tensor)\n",
    "preds = torch.sigmoid(preds)  # BCEWithLogitsLoss 썼으니까 반드시 sigmoid\n",
    "preds = preds.detach().numpy().flatten()"
   ]
  },
  {
   "cell_type": "code",
   "execution_count": 23,
   "id": "ac436042",
   "metadata": {},
   "outputs": [
    {
     "name": "stdout",
     "output_type": "stream",
     "text": [
      "submission.csv 저장 완료\n"
     ]
    }
   ],
   "source": [
    "# sample_submission 채워서 저장\n",
    "df_sample['성공확률'] = preds\n",
    "df_sample.to_csv('submission.csv', index=False)\n",
    "print(\"submission.csv 저장 완료\")"
   ]
  }
 ],
 "metadata": {
  "kernelspec": {
   "display_name": "python-env-311",
   "language": "python",
   "name": "python3"
  },
  "language_info": {
   "codemirror_mode": {
    "name": "ipython",
    "version": 3
   },
   "file_extension": ".py",
   "mimetype": "text/x-python",
   "name": "python",
   "nbconvert_exporter": "python",
   "pygments_lexer": "ipython3",
   "version": "3.11.11"
  }
 },
 "nbformat": 4,
 "nbformat_minor": 5
}
