{
 "cells": [
  {
   "cell_type": "code",
   "execution_count": 4,
   "id": "8a07ae92",
   "metadata": {},
   "outputs": [],
   "source": [
    "import pandas as pd\n",
    "import numpy as np\n",
    "from sklearn.model_selection import train_test_split, KFold\n",
    "from sklearn.preprocessing import LabelEncoder\n",
    "from sklearn.ensemble import GradientBoostingRegressor"
   ]
  },
  {
   "cell_type": "code",
   "execution_count": 3,
   "id": "d0f579a4",
   "metadata": {},
   "outputs": [],
   "source": [
    "df_sample = pd.read_csv(\"data-files/sample_submission.csv\")\n",
    "df_test = pd.read_csv(\"data-files/test.csv\")\n",
    "df_train = pd.read_csv(\"data-files/train.csv\")"
   ]
  },
  {
   "cell_type": "code",
   "execution_count": 5,
   "id": "660775c5",
   "metadata": {},
   "outputs": [],
   "source": [
    "# ===== 기업가치 숫자로 변환 ===== #\n",
    "def parse_valuation(v):\n",
    "    if pd.isna(v):\n",
    "        return np.nan\n",
    "    v = str(v).replace(\",\", \"\")\n",
    "    if '-' in v:\n",
    "        low, high = v.split('-')\n",
    "        return (float(low) + float(high)) / 2\n",
    "    else:\n",
    "        return float(''.join(filter(str.isdigit, v)))\n",
    "\n",
    "df_train['기업가치(백억원)'] = df_train['기업가치(백억원)'].apply(parse_valuation)\n",
    "df_test['기업가치(백억원)'] = df_test['기업가치(백억원)'].apply(parse_valuation)"
   ]
  },
  {
   "cell_type": "code",
   "execution_count": 6,
   "id": "d49c1ecb",
   "metadata": {},
   "outputs": [],
   "source": [
    "# ===== log 변환 (왜곡 심한 피처들) ===== #\n",
    "log_features = ['총 투자금(억원)', '연매출(억원)', 'SNS 팔로워 수(백만명)', '기업가치(백억원)', '고객수(백만명)']\n",
    "for col in log_features:\n",
    "    df_train[col] = np.log1p(df_train[col])\n",
    "    df_test[col] = np.log1p(df_test[col])"
   ]
  },
  {
   "cell_type": "code",
   "execution_count": 7,
   "id": "bd2246e4",
   "metadata": {},
   "outputs": [],
   "source": [
    "# ===== 파생 변수 추가 ===== #\n",
    "df_train['회사나이'] = 2025 - df_train['설립연도']\n",
    "df_test['회사나이'] = 2025 - df_test['설립연도']\n",
    "\n",
    "df_train['순이익'] = df_train['연매출(억원)'] - df_train['총 투자금(억원)']\n",
    "df_test['순이익'] = df_test['연매출(억원)'] - df_test['총 투자금(억원)']\n",
    "\n",
    "df_train['투자금_비율'] = df_train['연매출(억원)'] / (df_train['총 투자금(억원)'] + 1e-6)\n",
    "df_test['투자금_비율'] = df_test['연매출(억원)'] / (df_test['총 투자금(억원)'] + 1e-6)\n",
    "\n",
    "df_train['가치_비율'] = df_train['기업가치(백억원)'] / (df_train['총 투자금(억원)'] + 1e-6)\n",
    "df_test['가치_비율'] = df_test['기업가치(백억원)'] / (df_test['총 투자금(억원)'] + 1e-6)"
   ]
  },
  {
   "cell_type": "code",
   "execution_count": 8,
   "id": "dc1da75f",
   "metadata": {},
   "outputs": [],
   "source": [
    "# ===== 범주형 인코딩 ===== #\n",
    "categorical_cols = ['국가', '투자단계', '분야']\n",
    "for col in categorical_cols:\n",
    "    df_train[col] = df_train[col].fillna(\"Unknown\")\n",
    "    df_test[col] = df_test[col].fillna(\"Unknown\")\n",
    "    \n",
    "    le = LabelEncoder()\n",
    "    all_data = pd.concat([df_train[col], df_test[col]])\n",
    "    le.fit(all_data)\n",
    "    \n",
    "    df_train[col] = le.transform(df_train[col])\n",
    "    df_test[col] = le.transform(df_test[col])"
   ]
  },
  {
   "cell_type": "code",
   "execution_count": 9,
   "id": "b8b6790f",
   "metadata": {},
   "outputs": [],
   "source": [
    "# ===== 사용할 피처 설정 ===== #\n",
    "features = [\n",
    "    '총 투자금(억원)', '연매출(억원)', 'SNS 팔로워 수(백만명)',\n",
    "    '기업가치(백억원)', '고객수(백만명)', '회사나이', '순이익',\n",
    "    '투자금_비율', '가치_비율', '국가', '투자단계', '분야'\n",
    "]\n",
    "target = '성공확률'\n",
    "\n",
    "X = df_train[features].fillna(0)\n",
    "y = df_train[target]\n",
    "X_test = df_test[features].fillna(0)"
   ]
  },
  {
   "cell_type": "code",
   "execution_count": 10,
   "id": "aabbc547",
   "metadata": {},
   "outputs": [
    {
     "name": "stdout",
     "output_type": "stream",
     "text": [
      "===== Fold 1 =====\n",
      "Fold 1 Validation MAE: 0.2069\n",
      "===== Fold 2 =====\n",
      "Fold 2 Validation MAE: 0.2069\n",
      "===== Fold 3 =====\n",
      "Fold 3 Validation MAE: 0.2029\n",
      "===== Fold 4 =====\n",
      "Fold 4 Validation MAE: 0.2031\n",
      "===== Fold 5 =====\n",
      "Fold 5 Validation MAE: 0.2060\n"
     ]
    }
   ],
   "source": [
    "# ===== KFold 설정 ===== #\n",
    "kf = KFold(n_splits=5, shuffle=True, random_state=42)\n",
    "\n",
    "oof_preds = np.zeros(len(X))\n",
    "test_preds = np.zeros(len(X_test))\n",
    "\n",
    "fold = 0\n",
    "for train_idx, val_idx in kf.split(X):\n",
    "    fold += 1\n",
    "    print(f\"===== Fold {fold} =====\")\n",
    "    \n",
    "    X_train, X_val = X.iloc[train_idx], X.iloc[val_idx]\n",
    "    y_train, y_val = y.iloc[train_idx], y.iloc[val_idx]\n",
    "    \n",
    "    model = GradientBoostingRegressor(random_state=42)\n",
    "    model.fit(X_train, y_train)\n",
    "    \n",
    "    val_pred = model.predict(X_val)\n",
    "    oof_preds[val_idx] = val_pred\n",
    "    test_preds += model.predict(X_test) / 5  # 5번 평균\n",
    "    \n",
    "    val_loss = np.mean(np.abs(y_val - val_pred))\n",
    "    print(f\"Fold {fold} Validation MAE: {val_loss:.4f}\")"
   ]
  },
  {
   "cell_type": "code",
   "execution_count": 11,
   "id": "f834bbbd",
   "metadata": {},
   "outputs": [
    {
     "name": "stdout",
     "output_type": "stream",
     "text": [
      "\n",
      "===== Overall Validation MAE: 0.2052 =====\n"
     ]
    }
   ],
   "source": [
    "# ===== 전체 Validation 결과 출력 ===== #\n",
    "total_val_loss = np.mean(np.abs(y - oof_preds))\n",
    "print(f\"\\n===== Overall Validation MAE: {total_val_loss:.4f} =====\")"
   ]
  },
  {
   "cell_type": "code",
   "execution_count": 13,
   "id": "06681d75",
   "metadata": {},
   "outputs": [
    {
     "name": "stdout",
     "output_type": "stream",
     "text": [
      "제출 파일 저장 완료: submission.csv\n"
     ]
    }
   ],
   "source": [
    "# ===== 제출파일 저장 ===== #\n",
    "df_sample['성공확률'] = test_preds\n",
    "df_sample.to_csv('submission.csv', index=False)\n",
    "print(\"제출 파일 저장 완료: submission.csv\")"
   ]
  }
 ],
 "metadata": {
  "kernelspec": {
   "display_name": "python-env-311",
   "language": "python",
   "name": "python3"
  },
  "language_info": {
   "codemirror_mode": {
    "name": "ipython",
    "version": 3
   },
   "file_extension": ".py",
   "mimetype": "text/x-python",
   "name": "python",
   "nbconvert_exporter": "python",
   "pygments_lexer": "ipython3",
   "version": "3.11.11"
  }
 },
 "nbformat": 4,
 "nbformat_minor": 5
}
