{
 "cells": [
  {
   "cell_type": "code",
   "execution_count": 1,
   "id": "8a07ae92",
   "metadata": {},
   "outputs": [],
   "source": [
    "# 기본 수학 / 배열 / 데이터프레임 처리\n",
    "import numpy as np\n",
    "import pandas as pd\n",
    "\n",
    "# PyTorch - 딥러닝 프레임워크\n",
    "import torch\n",
    "import torch.nn as nn\n",
    "import torch.optim as optim\n",
    "\n",
    "# 데이터 전처리\n",
    "from sklearn.model_selection import train_test_split\n",
    "from sklearn.preprocessing import StandardScaler"
   ]
  },
  {
   "cell_type": "code",
   "execution_count": 2,
   "id": "d0f579a4",
   "metadata": {},
   "outputs": [],
   "source": [
    "df_sample = pd.read_csv(\"data-files/sample_submission.csv\")\n",
    "df_test = pd.read_csv(\"data-files/test.csv\")\n",
    "df_train = pd.read_csv(\"data-files/train.csv\")"
   ]
  },
  {
   "cell_type": "code",
   "execution_count": 3,
   "id": "98542593",
   "metadata": {},
   "outputs": [
    {
     "name": "stdout",
     "output_type": "stream",
     "text": [
      "<class 'pandas.core.frame.DataFrame'>\n",
      "RangeIndex: 1755 entries, 0 to 1754\n",
      "Data columns (total 2 columns):\n",
      " #   Column  Non-Null Count  Dtype \n",
      "---  ------  --------------  ----- \n",
      " 0   ID      1755 non-null   object\n",
      " 1   성공확률    1755 non-null   int64 \n",
      "dtypes: int64(1), object(1)\n",
      "memory usage: 27.6+ KB\n"
     ]
    }
   ],
   "source": [
    "df_sample.info()"
   ]
  },
  {
   "cell_type": "code",
   "execution_count": 4,
   "id": "05ec75f8",
   "metadata": {},
   "outputs": [
    {
     "data": {
      "text/html": [
       "<div>\n",
       "<style scoped>\n",
       "    .dataframe tbody tr th:only-of-type {\n",
       "        vertical-align: middle;\n",
       "    }\n",
       "\n",
       "    .dataframe tbody tr th {\n",
       "        vertical-align: top;\n",
       "    }\n",
       "\n",
       "    .dataframe thead th {\n",
       "        text-align: right;\n",
       "    }\n",
       "</style>\n",
       "<table border=\"1\" class=\"dataframe\">\n",
       "  <thead>\n",
       "    <tr style=\"text-align: right;\">\n",
       "      <th></th>\n",
       "      <th>ID</th>\n",
       "      <th>성공확률</th>\n",
       "    </tr>\n",
       "  </thead>\n",
       "  <tbody>\n",
       "    <tr>\n",
       "      <th>0</th>\n",
       "      <td>TEST_0000</td>\n",
       "      <td>0</td>\n",
       "    </tr>\n",
       "    <tr>\n",
       "      <th>1</th>\n",
       "      <td>TEST_0001</td>\n",
       "      <td>0</td>\n",
       "    </tr>\n",
       "    <tr>\n",
       "      <th>2</th>\n",
       "      <td>TEST_0002</td>\n",
       "      <td>0</td>\n",
       "    </tr>\n",
       "    <tr>\n",
       "      <th>3</th>\n",
       "      <td>TEST_0003</td>\n",
       "      <td>0</td>\n",
       "    </tr>\n",
       "    <tr>\n",
       "      <th>4</th>\n",
       "      <td>TEST_0004</td>\n",
       "      <td>0</td>\n",
       "    </tr>\n",
       "  </tbody>\n",
       "</table>\n",
       "</div>"
      ],
      "text/plain": [
       "          ID  성공확률\n",
       "0  TEST_0000     0\n",
       "1  TEST_0001     0\n",
       "2  TEST_0002     0\n",
       "3  TEST_0003     0\n",
       "4  TEST_0004     0"
      ]
     },
     "execution_count": 4,
     "metadata": {},
     "output_type": "execute_result"
    }
   ],
   "source": [
    "df_sample.head()"
   ]
  },
  {
   "cell_type": "code",
   "execution_count": 5,
   "id": "817f69bf",
   "metadata": {},
   "outputs": [
    {
     "name": "stdout",
     "output_type": "stream",
     "text": [
      "<class 'pandas.core.frame.DataFrame'>\n",
      "RangeIndex: 4376 entries, 0 to 4375\n",
      "Data columns (total 14 columns):\n",
      " #   Column          Non-Null Count  Dtype  \n",
      "---  ------          --------------  -----  \n",
      " 0   ID              4376 non-null   object \n",
      " 1   설립연도            4376 non-null   int64  \n",
      " 2   국가              4376 non-null   object \n",
      " 3   분야              3519 non-null   object \n",
      " 4   투자단계            4376 non-null   object \n",
      " 5   직원 수            4202 non-null   float64\n",
      " 6   인수여부            4376 non-null   object \n",
      " 7   상장여부            4376 non-null   object \n",
      " 8   고객수(백만명)        3056 non-null   float64\n",
      " 9   총 투자금(억원)       4376 non-null   float64\n",
      " 10  연매출(억원)         4376 non-null   float64\n",
      " 11  SNS 팔로워 수(백만명)  4376 non-null   float64\n",
      " 12  기업가치(백억원)       3156 non-null   object \n",
      " 13  성공확률            4376 non-null   float64\n",
      "dtypes: float64(6), int64(1), object(7)\n",
      "memory usage: 478.8+ KB\n"
     ]
    }
   ],
   "source": [
    "df_train.info()"
   ]
  },
  {
   "cell_type": "code",
   "execution_count": 6,
   "id": "836c03f8",
   "metadata": {},
   "outputs": [
    {
     "data": {
      "text/html": [
       "<div>\n",
       "<style scoped>\n",
       "    .dataframe tbody tr th:only-of-type {\n",
       "        vertical-align: middle;\n",
       "    }\n",
       "\n",
       "    .dataframe tbody tr th {\n",
       "        vertical-align: top;\n",
       "    }\n",
       "\n",
       "    .dataframe thead th {\n",
       "        text-align: right;\n",
       "    }\n",
       "</style>\n",
       "<table border=\"1\" class=\"dataframe\">\n",
       "  <thead>\n",
       "    <tr style=\"text-align: right;\">\n",
       "      <th></th>\n",
       "      <th>ID</th>\n",
       "      <th>설립연도</th>\n",
       "      <th>국가</th>\n",
       "      <th>분야</th>\n",
       "      <th>투자단계</th>\n",
       "      <th>직원 수</th>\n",
       "      <th>인수여부</th>\n",
       "      <th>상장여부</th>\n",
       "      <th>고객수(백만명)</th>\n",
       "      <th>총 투자금(억원)</th>\n",
       "      <th>연매출(억원)</th>\n",
       "      <th>SNS 팔로워 수(백만명)</th>\n",
       "      <th>기업가치(백억원)</th>\n",
       "      <th>성공확률</th>\n",
       "    </tr>\n",
       "  </thead>\n",
       "  <tbody>\n",
       "    <tr>\n",
       "      <th>0</th>\n",
       "      <td>TRAIN_0000</td>\n",
       "      <td>2009</td>\n",
       "      <td>CT005</td>\n",
       "      <td>이커머스</td>\n",
       "      <td>Series A</td>\n",
       "      <td>4126.0</td>\n",
       "      <td>No</td>\n",
       "      <td>No</td>\n",
       "      <td>56.0</td>\n",
       "      <td>3365.0</td>\n",
       "      <td>4764.0</td>\n",
       "      <td>4.71</td>\n",
       "      <td>NaN</td>\n",
       "      <td>0.3</td>\n",
       "    </tr>\n",
       "    <tr>\n",
       "      <th>1</th>\n",
       "      <td>TRAIN_0001</td>\n",
       "      <td>2023</td>\n",
       "      <td>CT006</td>\n",
       "      <td>핀테크</td>\n",
       "      <td>Seed</td>\n",
       "      <td>4167.0</td>\n",
       "      <td>Yes</td>\n",
       "      <td>No</td>\n",
       "      <td>80.0</td>\n",
       "      <td>4069.0</td>\n",
       "      <td>279.0</td>\n",
       "      <td>1.00</td>\n",
       "      <td>2500-3500</td>\n",
       "      <td>0.8</td>\n",
       "    </tr>\n",
       "    <tr>\n",
       "      <th>2</th>\n",
       "      <td>TRAIN_0002</td>\n",
       "      <td>2018</td>\n",
       "      <td>CT007</td>\n",
       "      <td>기술</td>\n",
       "      <td>Series A</td>\n",
       "      <td>3132.0</td>\n",
       "      <td>Yes</td>\n",
       "      <td>Yes</td>\n",
       "      <td>54.0</td>\n",
       "      <td>6453.0</td>\n",
       "      <td>12141.0</td>\n",
       "      <td>4.00</td>\n",
       "      <td>3500-4500</td>\n",
       "      <td>0.5</td>\n",
       "    </tr>\n",
       "    <tr>\n",
       "      <th>3</th>\n",
       "      <td>TRAIN_0003</td>\n",
       "      <td>2016</td>\n",
       "      <td>CT006</td>\n",
       "      <td>NaN</td>\n",
       "      <td>Seed</td>\n",
       "      <td>3245.0</td>\n",
       "      <td>Yes</td>\n",
       "      <td>Yes</td>\n",
       "      <td>NaN</td>\n",
       "      <td>665.0</td>\n",
       "      <td>10547.0</td>\n",
       "      <td>2.97</td>\n",
       "      <td>NaN</td>\n",
       "      <td>0.7</td>\n",
       "    </tr>\n",
       "    <tr>\n",
       "      <th>4</th>\n",
       "      <td>TRAIN_0004</td>\n",
       "      <td>2020</td>\n",
       "      <td>CT002</td>\n",
       "      <td>에듀테크</td>\n",
       "      <td>Seed</td>\n",
       "      <td>1969.0</td>\n",
       "      <td>No</td>\n",
       "      <td>Yes</td>\n",
       "      <td>94.0</td>\n",
       "      <td>829.0</td>\n",
       "      <td>9810.0</td>\n",
       "      <td>1.00</td>\n",
       "      <td>1500-2500</td>\n",
       "      <td>0.1</td>\n",
       "    </tr>\n",
       "  </tbody>\n",
       "</table>\n",
       "</div>"
      ],
      "text/plain": [
       "           ID  설립연도     국가    분야      투자단계    직원 수 인수여부 상장여부  고객수(백만명)  \\\n",
       "0  TRAIN_0000  2009  CT005  이커머스  Series A  4126.0   No   No      56.0   \n",
       "1  TRAIN_0001  2023  CT006   핀테크      Seed  4167.0  Yes   No      80.0   \n",
       "2  TRAIN_0002  2018  CT007    기술  Series A  3132.0  Yes  Yes      54.0   \n",
       "3  TRAIN_0003  2016  CT006   NaN      Seed  3245.0  Yes  Yes       NaN   \n",
       "4  TRAIN_0004  2020  CT002  에듀테크      Seed  1969.0   No  Yes      94.0   \n",
       "\n",
       "   총 투자금(억원)  연매출(억원)  SNS 팔로워 수(백만명)  기업가치(백억원)  성공확률  \n",
       "0     3365.0   4764.0            4.71        NaN   0.3  \n",
       "1     4069.0    279.0            1.00  2500-3500   0.8  \n",
       "2     6453.0  12141.0            4.00  3500-4500   0.5  \n",
       "3      665.0  10547.0            2.97        NaN   0.7  \n",
       "4      829.0   9810.0            1.00  1500-2500   0.1  "
      ]
     },
     "execution_count": 6,
     "metadata": {},
     "output_type": "execute_result"
    }
   ],
   "source": [
    "df_train.head()"
   ]
  },
  {
   "cell_type": "code",
   "execution_count": 7,
   "id": "973f7382",
   "metadata": {},
   "outputs": [
    {
     "data": {
      "text/plain": [
       "Index(['ID', '설립연도', '국가', '분야', '투자단계', '직원 수', '인수여부', '상장여부', '고객수(백만명)',\n",
       "       '총 투자금(억원)', '연매출(억원)', 'SNS 팔로워 수(백만명)', '기업가치(백억원)', '성공확률'],\n",
       "      dtype='object')"
      ]
     },
     "execution_count": 7,
     "metadata": {},
     "output_type": "execute_result"
    }
   ],
   "source": [
    "df_train.columns"
   ]
  },
  {
   "cell_type": "code",
   "execution_count": 8,
   "id": "63969366",
   "metadata": {},
   "outputs": [
    {
     "data": {
      "text/plain": [
       "Index(['ID', '성공확률'], dtype='object')"
      ]
     },
     "execution_count": 8,
     "metadata": {},
     "output_type": "execute_result"
    }
   ],
   "source": [
    "df_sample.columns"
   ]
  },
  {
   "cell_type": "code",
   "execution_count": 9,
   "id": "0f76ecea",
   "metadata": {},
   "outputs": [
    {
     "data": {
      "text/plain": [
       "Index(['ID', '설립연도', '국가', '분야', '투자단계', '직원 수', '인수여부', '상장여부', '고객수(백만명)',\n",
       "       '총 투자금(억원)', '연매출(억원)', 'SNS 팔로워 수(백만명)', '기업가치(백억원)'],\n",
       "      dtype='object')"
      ]
     },
     "execution_count": 9,
     "metadata": {},
     "output_type": "execute_result"
    }
   ],
   "source": [
    "df_test.columns"
   ]
  },
  {
   "cell_type": "code",
   "execution_count": 10,
   "id": "f04e3f53",
   "metadata": {},
   "outputs": [],
   "source": [
    "# 문자열 범위 처리 함수\n",
    "def handle_range(x):\n",
    "    if isinstance(x, str):\n",
    "        x = x.replace(',', '')  # 쉼표 제거\n",
    "        if '-' in x:\n",
    "            low, high = x.split('-')\n",
    "            return (float(low) + float(high)) / 2\n",
    "        else:\n",
    "            # '6000이상' 같은 경우 숫자만 추출\n",
    "            num = ''.join(filter(str.isdigit, x))\n",
    "            return float(num)\n",
    "    else:\n",
    "        return float(x)\n",
    "\n",
    "# 총 투자금, 연매출, 기업가치 세 컬럼에 적용\n",
    "for col in ['총 투자금(억원)', '연매출(억원)', '기업가치(백억원)']:\n",
    "    df_train[col] = df_train[col].apply(handle_range)\n",
    "    df_test[col] = df_test[col].apply(handle_range)"
   ]
  },
  {
   "cell_type": "code",
   "execution_count": 11,
   "id": "5ad2bf73",
   "metadata": {},
   "outputs": [],
   "source": [
    "# 각 컬럼별 평균값으로 NaN 채우기\n",
    "for col in ['총 투자금(억원)', '연매출(억원)', '기업가치(백억원)']:\n",
    "    mean_value = df_train[col].mean()\n",
    "    df_train[col] = df_train[col].fillna(mean_value)\n",
    "    df_test[col] = df_test[col].fillna(mean_value)"
   ]
  },
  {
   "cell_type": "code",
   "execution_count": 12,
   "id": "28685551",
   "metadata": {},
   "outputs": [
    {
     "name": "stdout",
     "output_type": "stream",
     "text": [
      "Epoch 0, Train Loss: 0.697776734828949, Val Loss: 0.7031059861183167\n",
      "Epoch 50, Train Loss: 0.6914556622505188, Val Loss: 0.6928426027297974\n",
      "Epoch 100, Train Loss: 0.690337598323822, Val Loss: 0.6904001235961914\n",
      "Epoch 150, Train Loss: 0.6901139616966248, Val Loss: 0.6900559663772583\n",
      "Epoch 200, Train Loss: 0.6899905204772949, Val Loss: 0.6900949478149414\n",
      "Epoch 250, Train Loss: 0.6898946762084961, Val Loss: 0.6901707053184509\n"
     ]
    }
   ],
   "source": [
    "# 순이익이 많을 수록 성공률 높을 것이라 예상\n",
    "\n",
    "df_train['순이익'] = df_train['연매출(억원)'] - df_train['총 투자금(억원)']\n",
    "df_test['순이익'] = df_test['연매출(억원)'] - df_test['총 투자금(억원)']\n",
    "\n",
    "# 사용할 feature 고르기\n",
    "features = ['순이익', '기업가치(백억원)']\n",
    "\n",
    "X = df_train[features]\n",
    "y = df_train['성공확률']\n",
    "X_test = df_test[features]\n",
    "\n",
    "# 스케일링\n",
    "scaler = StandardScaler()\n",
    "X = scaler.fit_transform(X)\n",
    "X_test = scaler.transform(X_test)\n",
    "\n",
    "# train/validation split\n",
    "X_train, X_val, y_train, y_val = train_test_split(X, y, test_size=0.2, random_state=42)\n",
    "\n",
    "# 모델 간단히 재정의\n",
    "class SimpleMLP(nn.Module):\n",
    "    def __init__(self):\n",
    "        super().__init__()\n",
    "        self.fc1 = nn.Linear(2, 32)  # 입력이 2개니까\n",
    "        self.fc2 = nn.Linear(32, 1)\n",
    "        \n",
    "    def forward(self, x):\n",
    "        x = torch.relu(self.fc1(x))\n",
    "        x = self.fc2(x)\n",
    "        return x\n",
    "\n",
    "model = SimpleMLP()\n",
    "\n",
    "# 손실함수 + optimizer\n",
    "criterion = nn.BCEWithLogitsLoss()  # !!! BCEWithLogitsLoss\n",
    "optimizer = optim.Adam(model.parameters(), lr=0.0005)\n",
    "\n",
    "# 학습\n",
    "epochs = 300\n",
    "for epoch in range(epochs):\n",
    "    model.train()\n",
    "    optimizer.zero_grad()\n",
    "    output = model(torch.FloatTensor(X_train))\n",
    "    loss = criterion(output, torch.FloatTensor(y_train.values).view(-1, 1))\n",
    "    loss.backward()\n",
    "    optimizer.step()\n",
    "    \n",
    "    if epoch % 50 == 0:\n",
    "        model.eval()\n",
    "        val_output = model(torch.FloatTensor(X_val))\n",
    "        val_loss = criterion(val_output, torch.FloatTensor(y_val.values).view(-1, 1))\n",
    "        print(f\"Epoch {epoch}, Train Loss: {loss.item()}, Val Loss: {val_loss.item()}\")"
   ]
  },
  {
   "cell_type": "code",
   "execution_count": 13,
   "id": "5a1e9bfd",
   "metadata": {},
   "outputs": [],
   "source": [
    "# # 예측\n",
    "# model.eval()\n",
    "# preds = model(torch.FloatTensor(X_test))\n",
    "# preds = torch.sigmoid(preds)  # BCEWithLogitsLoss 썼으면 반드시 sigmoid 필요\n",
    "# preds = preds.detach().numpy().flatten()"
   ]
  },
  {
   "cell_type": "code",
   "execution_count": 14,
   "id": "2851fa0c",
   "metadata": {},
   "outputs": [],
   "source": [
    "# # sample_submission 채우기\n",
    "# df_sample['성공확률'] = preds\n",
    "# df_sample.to_csv('submission.csv', index=False)"
   ]
  },
  {
   "cell_type": "code",
   "execution_count": 15,
   "id": "17587abb",
   "metadata": {},
   "outputs": [],
   "source": [
    "# model.eval()\n",
    "\n",
    "# # X_test를 torch로 변환\n",
    "# X_test_tensor = torch.FloatTensor(X_test)\n",
    "\n",
    "# # 모델에 넣고 예측\n",
    "# preds = model(X_test_tensor)\n",
    "\n",
    "# # BCEWithLogitsLoss 썼으니까 반드시 sigmoid 통과시켜야 함\n",
    "# preds = torch.sigmoid(preds)\n",
    "\n",
    "# # detach하고 numpy로 변환\n",
    "# preds = preds.detach().numpy().flatten()\n",
    "\n",
    "# # sample_submission에 넣기\n",
    "# df_sample['성공확률'] = preds\n",
    "# df_sample.to_csv('submission.csv', index=False)"
   ]
  },
  {
   "cell_type": "code",
   "execution_count": 16,
   "id": "4e6665e2",
   "metadata": {},
   "outputs": [],
   "source": [
    "# # (1) 모델을 평가 모드로\n",
    "# model.eval()\n",
    "\n",
    "# # (2) X_test를 Tensor로 변환\n",
    "# X_test_tensor = torch.FloatTensor(X_test)\n",
    "\n",
    "# # (3) 모델에 넣고 예측\n",
    "# preds = model(X_test_tensor)\n",
    "\n",
    "# # (4) 반드시 sigmoid 통과시키기\n",
    "# preds = torch.sigmoid(preds)\n",
    "\n",
    "# # (5) detach -> numpy 변환 -> flatten\n",
    "# preds = preds.detach().numpy().flatten()\n",
    "\n",
    "# # (6) preds 내용 한번 체크\n",
    "# print(\"Preds min:\", preds.min(), \"Preds max:\", preds.max())\n",
    "\n",
    "# # (7) sample_submission에 넣기\n",
    "# df_sample['성공확률'] = preds\n",
    "\n",
    "# # (8) 저장\n",
    "# df_sample.to_csv('submission.csv', index=False)"
   ]
  },
  {
   "cell_type": "code",
   "execution_count": 17,
   "id": "69bc55ff",
   "metadata": {},
   "outputs": [
    {
     "name": "stdout",
     "output_type": "stream",
     "text": [
      "Preds min: 0.5034465 Preds max: 0.58558786\n"
     ]
    }
   ],
   "source": [
    "# 1. 모델 평가모드로\n",
    "model.eval()\n",
    "\n",
    "# 2. X_test 변환\n",
    "X_test_tensor = torch.FloatTensor(X_test)\n",
    "\n",
    "# 3. 예측\n",
    "preds = model(X_test_tensor)\n",
    "\n",
    "# 4. sigmoid 통과\n",
    "preds = torch.sigmoid(preds)\n",
    "\n",
    "# 5. detach + numpy 변환 + flatten\n",
    "preds = preds.detach().numpy().flatten()\n",
    "\n",
    "# 6. 예측 결과 직접 확인\n",
    "print(\"Preds min:\", preds.min(), \"Preds max:\", preds.max())"
   ]
  },
  {
   "cell_type": "code",
   "execution_count": 18,
   "id": "2627037a",
   "metadata": {},
   "outputs": [
    {
     "name": "stdout",
     "output_type": "stream",
     "text": [
      "(3500, 2)\n"
     ]
    }
   ],
   "source": [
    "print(X_train.shape)"
   ]
  },
  {
   "cell_type": "code",
   "execution_count": 19,
   "id": "662e1556",
   "metadata": {},
   "outputs": [
    {
     "name": "stdout",
     "output_type": "stream",
     "text": [
      "NaN 개수: 0\n",
      "Inf 개수: 0\n",
      "최소값: -2.312941551208496\n",
      "최대값: 2.656660556793213\n"
     ]
    }
   ],
   "source": [
    "import torch\n",
    "\n",
    "# numpy → Tensor 변환\n",
    "X_train_tensor = torch.FloatTensor(X_train)\n",
    "\n",
    "# NaN / Inf 검사\n",
    "print(\"NaN 개수:\", torch.isnan(X_train_tensor).sum().item())\n",
    "print(\"Inf 개수:\", torch.isinf(X_train_tensor).sum().item())\n",
    "\n",
    "# min, max 값도 체크\n",
    "print(\"최소값:\", X_train_tensor.min().item())\n",
    "print(\"최대값:\", X_train_tensor.max().item())"
   ]
  },
  {
   "cell_type": "code",
   "execution_count": 20,
   "id": "8564c71e",
   "metadata": {},
   "outputs": [
    {
     "name": "stdout",
     "output_type": "stream",
     "text": [
      "tensor(0)\n",
      "tensor(0)\n",
      "tensor(-2.3129) tensor(2.6567)\n"
     ]
    }
   ],
   "source": [
    "print(torch.isnan(X_train_tensor).sum())\n",
    "print(torch.isinf(X_train_tensor).sum())\n",
    "print(X_train_tensor.min(), X_train_tensor.max())"
   ]
  },
  {
   "cell_type": "code",
   "execution_count": 21,
   "id": "89dac51e",
   "metadata": {},
   "outputs": [
    {
     "name": "stdout",
     "output_type": "stream",
     "text": [
      "NaN 개수: 0\n",
      "Inf 개수: 0\n",
      "최소값: -2.312941551208496\n",
      "최대값: 2.656660556793213\n"
     ]
    }
   ],
   "source": [
    "print(\"NaN 개수:\", torch.isnan(X_train_tensor).sum().item())\n",
    "print(\"Inf 개수:\", torch.isinf(X_train_tensor).sum().item())\n",
    "print(\"최소값:\", X_train_tensor.min().item())\n",
    "print(\"최대값:\", X_train_tensor.max().item())"
   ]
  },
  {
   "cell_type": "code",
   "execution_count": 22,
   "id": "c833ae66",
   "metadata": {},
   "outputs": [],
   "source": [
    "from sklearn.model_selection import train_test_split\n",
    "\n",
    "X_train, X_val, y_train, y_val = train_test_split(X, y, test_size=0.2, random_state=42)"
   ]
  },
  {
   "cell_type": "code",
   "execution_count": 23,
   "id": "cf95f1d7",
   "metadata": {},
   "outputs": [],
   "source": [
    "import torch.nn as nn\n",
    "import torch.optim as optim\n",
    "\n",
    "class SimpleMLP(nn.Module):\n",
    "    def __init__(self):\n",
    "        super().__init__()\n",
    "        self.fc1 = nn.Linear(2, 32)\n",
    "        self.fc2 = nn.Linear(32, 1)\n",
    "        \n",
    "    def forward(self, x):\n",
    "        x = torch.relu(self.fc1(x))\n",
    "        x = self.fc2(x)\n",
    "        return x\n",
    "\n",
    "model = SimpleMLP()\n",
    "\n",
    "# 손실함수와 optimizer\n",
    "criterion = nn.BCEWithLogitsLoss()\n",
    "optimizer = optim.Adam(model.parameters(), lr=0.0005)\n",
    "\n",
    "# Tensor 변환\n",
    "X_train_tensor = torch.FloatTensor(X_train)\n",
    "y_train_tensor = torch.FloatTensor(y_train.values).view(-1, 1)\n",
    "X_val_tensor = torch.FloatTensor(X_val)\n",
    "y_val_tensor = torch.FloatTensor(y_val.values).view(-1, 1)"
   ]
  },
  {
   "cell_type": "code",
   "execution_count": 24,
   "id": "1f251495",
   "metadata": {},
   "outputs": [
    {
     "name": "stdout",
     "output_type": "stream",
     "text": [
      "Epoch 0, Train Loss: 0.6991621255874634, Val Loss: 0.7038846611976624\n",
      "Epoch 50, Train Loss: 0.6927038431167603, Val Loss: 0.6928607821464539\n",
      "Epoch 100, Train Loss: 0.6911978721618652, Val Loss: 0.6904335618019104\n",
      "Epoch 150, Train Loss: 0.690545916557312, Val Loss: 0.6899673342704773\n",
      "Epoch 200, Train Loss: 0.6901723742485046, Val Loss: 0.6899319291114807\n",
      "Epoch 250, Train Loss: 0.6899355053901672, Val Loss: 0.6900262832641602\n"
     ]
    }
   ],
   "source": [
    "epochs = 300\n",
    "for epoch in range(epochs):\n",
    "    model.train()\n",
    "    optimizer.zero_grad()\n",
    "    output = model(X_train_tensor)\n",
    "    loss = criterion(output, y_train_tensor)\n",
    "    loss.backward()\n",
    "    optimizer.step()\n",
    "    \n",
    "    if epoch % 50 == 0:\n",
    "        model.eval()\n",
    "        val_output = model(X_val_tensor)\n",
    "        val_loss = criterion(val_output, y_val_tensor)\n",
    "        print(f\"Epoch {epoch}, Train Loss: {loss.item()}, Val Loss: {val_loss.item()}\")\n"
   ]
  },
  {
   "cell_type": "code",
   "execution_count": 25,
   "id": "1614e5f9",
   "metadata": {},
   "outputs": [],
   "source": [
    "model.eval()\n",
    "X_test_tensor = torch.FloatTensor(X_test)\n",
    "preds = model(X_test_tensor)\n",
    "preds = torch.sigmoid(preds)\n",
    "preds = preds.detach().numpy().flatten()\n",
    "\n",
    "df_sample['성공확률'] = preds\n",
    "df_sample.to_csv('submission.csv', index=False)"
   ]
  }
 ],
 "metadata": {
  "kernelspec": {
   "display_name": "python-env-311",
   "language": "python",
   "name": "python3"
  },
  "language_info": {
   "codemirror_mode": {
    "name": "ipython",
    "version": 3
   },
   "file_extension": ".py",
   "mimetype": "text/x-python",
   "name": "python",
   "nbconvert_exporter": "python",
   "pygments_lexer": "ipython3",
   "version": "3.11.11"
  }
 },
 "nbformat": 4,
 "nbformat_minor": 5
}
