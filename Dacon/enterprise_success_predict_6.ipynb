{
 "cells": [
  {
   "cell_type": "code",
   "execution_count": 1,
   "id": "8a07ae92",
   "metadata": {},
   "outputs": [],
   "source": [
    "import numpy as np\n",
    "import pandas as pd\n",
    "import torch\n",
    "import torch.nn as nn\n",
    "import torch.optim as optim\n",
    "from sklearn.model_selection import train_test_split\n",
    "from sklearn.preprocessing import StandardScaler"
   ]
  },
  {
   "cell_type": "code",
   "execution_count": 2,
   "id": "d0f579a4",
   "metadata": {},
   "outputs": [],
   "source": [
    "df_sample = pd.read_csv(\"data-files/sample_submission.csv\")\n",
    "df_test = pd.read_csv(\"data-files/test.csv\")\n",
    "df_train = pd.read_csv(\"data-files/train.csv\")"
   ]
  },
  {
   "cell_type": "code",
   "execution_count": 6,
   "id": "f4b46c61",
   "metadata": {},
   "outputs": [],
   "source": [
    "# 기업가치 전처리\n",
    "def parse_valuation(v):\n",
    "    if pd.isna(v):\n",
    "        return np.nan\n",
    "    v = str(v).replace(\",\", \"\")\n",
    "    if '-' in v:\n",
    "        low, high = v.split('-')\n",
    "        return (float(low) + float(high)) / 2\n",
    "    else:\n",
    "        return float(''.join(filter(str.isdigit, v)))\n",
    "    \n",
    "df_train['기업가치(백억원)'] = df_train['기업가치(백억원)'].apply(parse_valuation)\n",
    "df_test['기업가치(백억원)'] = df_test['기업가치(백억원)'].apply(parse_valuation)"
   ]
  },
  {
   "cell_type": "code",
   "execution_count": 8,
   "id": "200fc39a",
   "metadata": {},
   "outputs": [],
   "source": [
    "# Feature 설정 + Log 변환\n",
    "features = ['총 투자금(억원)', '연매출(억원)', 'SNS 팔로워 수(백만명)', '기업가치(백억원)']\n",
    "target = '성공확률'\n",
    "\n",
    "for col in features:\n",
    "    df_train[col] = df_train[col].apply(lambda x: np.log1p(x) if pd.notna(x) else 0)\n",
    "    df_test[col] = df_test[col].apply(lambda x: np.log1p(x) if pd.notna(x) else 0)\n",
    "\n",
    "df_train[features] = df_train[features].fillna(0)\n",
    "df_test[features] = df_test[features].fillna(0)"
   ]
  },
  {
   "cell_type": "code",
   "execution_count": 9,
   "id": "70f7e97b",
   "metadata": {},
   "outputs": [],
   "source": [
    "# 데이터 나누기\n",
    "X = df_train[features]\n",
    "y = df_train[target]\n",
    "X_test = df_test[features]\n",
    "\n",
    "scaler = StandardScaler()\n",
    "X = scaler.fit_transform(X)\n",
    "X_test = scaler.transform(X_test)\n",
    "X_train, X_val, y_train, y_val = train_test_split(X, y, test_size=0.2, random_state=42)\n"
   ]
  },
  {
   "cell_type": "code",
   "execution_count": 10,
   "id": "fb310ec9",
   "metadata": {},
   "outputs": [],
   "source": [
    "# 모델 정의 (회귀)\n",
    "class SimpleMLP(nn.Module):\n",
    "    def __init__(self):\n",
    "        super().__init__()\n",
    "        self.fc1 = nn.Linear(len(features), 64)\n",
    "        self.fc2 = nn.Linear(64, 32)\n",
    "        self.fc3 = nn.Linear(32, 1)\n",
    "        \n",
    "    def forward(self, x):\n",
    "        x = torch.relu(self.fc1(x))\n",
    "        x = torch.relu(self.fc2(x))\n",
    "        return self.fc3(x)\n",
    "\n",
    "model = SimpleMLP()\n",
    "criterion = nn.MSELoss()\n",
    "optimizer = optim.Adam(model.parameters(), lr=0.001)"
   ]
  },
  {
   "cell_type": "code",
   "execution_count": 11,
   "id": "d648758f",
   "metadata": {},
   "outputs": [],
   "source": [
    "# 텐서 변환\n",
    "X_train_tensor = torch.FloatTensor(X_train)\n",
    "y_train_tensor = torch.FloatTensor(y_train.values).view(-1, 1)\n",
    "X_val_tensor = torch.FloatTensor(X_val)\n",
    "y_val_tensor = torch.FloatTensor(y_val.values).view(-1, 1)\n",
    "X_test_tensor = torch.FloatTensor(X_test)"
   ]
  },
  {
   "cell_type": "code",
   "execution_count": 12,
   "id": "a3ec2c2a",
   "metadata": {},
   "outputs": [
    {
     "name": "stdout",
     "output_type": "stream",
     "text": [
      "Epoch 0, Train Loss: 0.4416, Val Loss: 0.4122\n",
      "Epoch 50, Train Loss: 0.0652, Val Loss: 0.0657\n",
      "Epoch 100, Train Loss: 0.0596, Val Loss: 0.0605\n",
      "Epoch 150, Train Loss: 0.0584, Val Loss: 0.0595\n",
      "Epoch 200, Train Loss: 0.0581, Val Loss: 0.0594\n",
      "Epoch 250, Train Loss: 0.0579, Val Loss: 0.0594\n"
     ]
    }
   ],
   "source": [
    "# 학습\n",
    "epochs = 300\n",
    "for epoch in range(epochs):\n",
    "    model.train()\n",
    "    optimizer.zero_grad()\n",
    "    output = model(X_train_tensor)\n",
    "    loss = criterion(output, y_train_tensor)\n",
    "    loss.backward()\n",
    "    optimizer.step()\n",
    "    if epoch % 50 == 0:\n",
    "        model.eval()\n",
    "        val_output = model(X_val_tensor)\n",
    "        val_loss = criterion(val_output, y_val_tensor)\n",
    "        print(f\"Epoch {epoch}, Train Loss: {loss.item():.4f}, Val Loss: {val_loss.item():.4f}\")"
   ]
  },
  {
   "cell_type": "code",
   "execution_count": 14,
   "id": "d6f6e826",
   "metadata": {},
   "outputs": [],
   "source": [
    "# 예측 및 저장\n",
    "model.eval()\n",
    "preds = model(X_test_tensor).detach().numpy().flatten()\n",
    "df_sample['성공확률'] = preds\n",
    "df_sample.to_csv('submission.csv', index=False)"
   ]
  }
 ],
 "metadata": {
  "kernelspec": {
   "display_name": "python-env-311",
   "language": "python",
   "name": "python3"
  },
  "language_info": {
   "codemirror_mode": {
    "name": "ipython",
    "version": 3
   },
   "file_extension": ".py",
   "mimetype": "text/x-python",
   "name": "python",
   "nbconvert_exporter": "python",
   "pygments_lexer": "ipython3",
   "version": "3.11.11"
  }
 },
 "nbformat": 4,
 "nbformat_minor": 5
}
