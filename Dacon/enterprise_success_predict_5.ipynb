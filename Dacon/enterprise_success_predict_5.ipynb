{
 "cells": [
  {
   "cell_type": "code",
   "execution_count": 1,
   "id": "8a07ae92",
   "metadata": {},
   "outputs": [],
   "source": [
    "import numpy as np\n",
    "import pandas as pd\n",
    "import torch\n",
    "import torch.nn as nn\n",
    "import torch.optim as optim\n",
    "from sklearn.model_selection import train_test_split\n",
    "from sklearn.preprocessing import StandardScaler"
   ]
  },
  {
   "cell_type": "code",
   "execution_count": 2,
   "id": "d0f579a4",
   "metadata": {},
   "outputs": [],
   "source": [
    "df_sample = pd.read_csv(\"data-files/sample_submission.csv\")\n",
    "df_test = pd.read_csv(\"data-files/test.csv\")\n",
    "df_train = pd.read_csv(\"data-files/train.csv\")"
   ]
  },
  {
   "cell_type": "code",
   "execution_count": 3,
   "id": "760990a2",
   "metadata": {},
   "outputs": [],
   "source": [
    "# 결측치 처리\n",
    "df_train = df_train.fillna(0)\n",
    "df_test = df_test.fillna(0)"
   ]
  },
  {
   "cell_type": "code",
   "execution_count": 4,
   "id": "973f7382",
   "metadata": {},
   "outputs": [
    {
     "data": {
      "text/plain": [
       "Index(['ID', '설립연도', '국가', '분야', '투자단계', '직원 수', '인수여부', '상장여부', '고객수(백만명)',\n",
       "       '총 투자금(억원)', '연매출(억원)', 'SNS 팔로워 수(백만명)', '기업가치(백억원)', '성공확률'],\n",
       "      dtype='object')"
      ]
     },
     "execution_count": 4,
     "metadata": {},
     "output_type": "execute_result"
    }
   ],
   "source": [
    "df_train.columns"
   ]
  },
  {
   "cell_type": "code",
   "execution_count": 6,
   "id": "2ccd406e",
   "metadata": {},
   "outputs": [],
   "source": [
    "# 기업가치 컬럼 숫자로 바꾸기\n",
    "def parse_valuation(v):\n",
    "    if pd.isna(v):\n",
    "        return np.nan\n",
    "    v = str(v).replace(\",\",\"\") # 콤마 제거(just in case)\n",
    "    if '-' in v: # 범위형이면 평균 처리\n",
    "        low, high = v.split('-')\n",
    "        return (float(low) + float(high)) / 2\n",
    "    else:\n",
    "        # 숫자만 남기고 문자 삭제 (ex: 6000이상 -> 6000)\n",
    "        num = ''.join(filter(str.isdigit,v))\n",
    "        return float(num)\n",
    "\n",
    "df_train['기업가치(백억원)'] = df_train['기업가치(백억원)'].apply(parse_valuation)\n",
    "df_test['기업가치(백억원)'] = df_test['기업가치(백억원)'].apply(parse_valuation)"
   ]
  },
  {
   "cell_type": "code",
   "execution_count": 7,
   "id": "64e2af08",
   "metadata": {},
   "outputs": [],
   "source": [
    "# feature 가공\n",
    "# 순이익 column 추가\n",
    "df_train['순이익'] = df_train['연매출(억원)'] - df_train['총 투자금(억원)']\n",
    "df_test['순이익'] = df_test['연매출(억원)'] - df_test['총 투자금(억원)']"
   ]
  },
  {
   "cell_type": "code",
   "execution_count": 8,
   "id": "297dd811",
   "metadata": {},
   "outputs": [],
   "source": [
    "# 사용할 feature 설정\n",
    "features = ['총 투자금(억원)', '연매출(억원)', '기업가치(백억원)', '순이익', 'SNS 팔로워 수(백만명)', '고객수(백만명)', '직원 수']\n",
    "\n",
    "X = df_train[features]\n",
    "y = df_train['성공확률']\n",
    "X_test = df_test[features]"
   ]
  },
  {
   "cell_type": "code",
   "execution_count": 9,
   "id": "2f8de42c",
   "metadata": {},
   "outputs": [],
   "source": [
    "# 스케일링(표준화)\n",
    "scaler = StandardScaler()\n",
    "X = scaler.fit_transform(X)\n",
    "X_test = scaler.transform(X_test)"
   ]
  },
  {
   "cell_type": "code",
   "execution_count": 10,
   "id": "35715ecf",
   "metadata": {},
   "outputs": [],
   "source": [
    "# train / validation 분리하기\n",
    "X_train, X_val, y_train, y_val = train_test_split(X, y, test_size=0.2, random_state=42)"
   ]
  },
  {
   "cell_type": "code",
   "execution_count": 21,
   "id": "c20f9d63",
   "metadata": {},
   "outputs": [],
   "source": [
    "# MLP\n",
    "class SimpleMLP(nn.Module):\n",
    "    def __init__(self):\n",
    "        super().__init__()\n",
    "        self.fc1 = nn.Linear(len(features), 64)\n",
    "        self.fc2 = nn.Linear(64, 32)\n",
    "        self.fc3 = nn.Linear(32, 1)\n",
    "\n",
    "    def forward(self, x):\n",
    "        x = torch.relu(self.fc1(x))\n",
    "        x = torch.relu(self.fc2(x))\n",
    "        x = self.fc3(x)\n",
    "        return x\n",
    "    \n",
    "model = SimpleMLP()"
   ]
  },
  {
   "cell_type": "code",
   "execution_count": 22,
   "id": "146a30f1",
   "metadata": {},
   "outputs": [],
   "source": [
    "# 학습 준비\n",
    "criterion = nn.BCEWithLogitsLoss() # 시그모이드 없이 로짓 + BCE 한방 처리\n",
    "optimizer = optim.Adam(model.parameters(), lr=0.001)"
   ]
  },
  {
   "cell_type": "code",
   "execution_count": 23,
   "id": "86de2279",
   "metadata": {},
   "outputs": [],
   "source": [
    "# Tensor로 변환\n",
    "X_train_tensor = torch.FloatTensor(X_train)\n",
    "y_train_tensor = torch.FloatTensor(y_train.values).view(-1, 1)\n",
    "X_val_tensor = torch.FloatTensor(X_val)\n",
    "y_val_tensor = torch.FloatTensor(y_val.values).view(-1, 1)\n",
    "X_test_tensor = torch.FloatTensor(X_test)"
   ]
  },
  {
   "cell_type": "code",
   "execution_count": 24,
   "id": "74531efd",
   "metadata": {},
   "outputs": [
    {
     "name": "stdout",
     "output_type": "stream",
     "text": [
      "Epoch 0, Train Loss: 0.6907, Val Loss: 0.6889\n",
      "Epoch 50, Train Loss: 0.6873, Val Loss: 0.6918\n",
      "Epoch 100, Train Loss: 0.6837, Val Loss: 0.6934\n",
      "Epoch 150, Train Loss: 0.6784, Val Loss: 0.6948\n",
      "Epoch 200, Train Loss: 0.6733, Val Loss: 0.6963\n",
      "Epoch 250, Train Loss: 0.6689, Val Loss: 0.6980\n",
      "Epoch 300, Train Loss: 0.6652, Val Loss: 0.6996\n",
      "Epoch 350, Train Loss: 0.6622, Val Loss: 0.7025\n",
      "Epoch 400, Train Loss: 0.6598, Val Loss: 0.7039\n",
      "Epoch 450, Train Loss: 0.6577, Val Loss: 0.7060\n"
     ]
    }
   ],
   "source": [
    "# 학습\n",
    "epochs = 500\n",
    "for epoch in range(epochs):\n",
    "    model.train()\n",
    "    optimizer.zero_grad()\n",
    "    output = model(X_train_tensor)\n",
    "    # print(type(output))\n",
    "    loss = criterion(output, y_train_tensor)\n",
    "    loss.backward()\n",
    "    optimizer.step()\n",
    "\n",
    "    if epoch % 50 == 0:\n",
    "        model.eval()\n",
    "        val_output = model(X_val_tensor)\n",
    "        val_loss = criterion(val_output, y_val_tensor)\n",
    "        print(f\"Epoch {epoch}, Train Loss: {loss.item():.4f}, Val Loss: {val_loss.item():.4f}\")"
   ]
  },
  {
   "cell_type": "code",
   "execution_count": 25,
   "id": "f1c233f3",
   "metadata": {},
   "outputs": [],
   "source": [
    "# 예측\n",
    "model.eval()\n",
    "preds = model(X_test_tensor).detach().numpy().flatten()\n",
    "preds = 1 / (1 + np.exp(-preds))  # BCEWithLogitsLoss 썼으니까 마지막에 sigmoid 적용"
   ]
  },
  {
   "cell_type": "code",
   "execution_count": 26,
   "id": "5fd306f6",
   "metadata": {},
   "outputs": [
    {
     "name": "stdout",
     "output_type": "stream",
     "text": [
      "제출 파일 저장 완료: submission.csv\n"
     ]
    }
   ],
   "source": [
    "#결과 저장\n",
    "df_sample['성공확률'] = preds\n",
    "df_sample.to_csv('submission.csv', index=False)\n",
    "\n",
    "print(\"제출 파일 저장 완료: submission.csv\")"
   ]
  }
 ],
 "metadata": {
  "kernelspec": {
   "display_name": "python-env-311",
   "language": "python",
   "name": "python3"
  },
  "language_info": {
   "codemirror_mode": {
    "name": "ipython",
    "version": 3
   },
   "file_extension": ".py",
   "mimetype": "text/x-python",
   "name": "python",
   "nbconvert_exporter": "python",
   "pygments_lexer": "ipython3",
   "version": "3.11.11"
  }
 },
 "nbformat": 4,
 "nbformat_minor": 5
}
